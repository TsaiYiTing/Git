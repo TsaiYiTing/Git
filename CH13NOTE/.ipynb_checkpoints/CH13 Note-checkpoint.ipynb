{
 "cells": [
  {
   "cell_type": "markdown",
   "metadata": {},
   "source": [
    "# Convolutional Neural Network\n",
    "* Convolutional Layer\n",
    "* Pooling Layer\n",
    "* CNN Architectures\n",
    "    * LaNet-5\n",
    "    * Alexnet\n",
    "    * GoogLeNet\n",
    "    * ResNet\n",
    "    * SENet"
   ]
  },
  {
   "cell_type": "markdown",
   "metadata": {},
   "source": [
    "## Pooling Layer"
   ]
  },
  {
   "cell_type": "markdown",
   "metadata": {},
   "source": [
    "## CNN Architectures"
   ]
  },
  {
   "cell_type": "markdown",
   "metadata": {},
   "source": [
    "### ILSVRC\n",
    "網址https://chtseng.wordpress.com/2017/11/20/ilsvrc-%E6%AD%B7%E5%B1%86%E7%9A%84%E6%B7%B1%E5%BA%A6%E5%AD%B8%E7%BF%92%E6%A8%A1%E5%9E%8B/"
   ]
  },
  {
   "cell_type": "markdown",
   "metadata": {},
   "source": [
    "<img src=\"FIGURE13-1.png\" width=\"70%\" height=\"70%\">\n",
    "本圖引自 https://chtseng.wordpress.com/2017/11/20/ilsvrc-%E6%AD%B7%E5%B1%86%E7%9A%84%E6%B7%B1%E5%BA%A6%E5%AD%B8%E7%BF%92%E6%A8%A1%E5%9E%8B/"
   ]
  },
  {
   "cell_type": "markdown",
   "metadata": {},
   "source": [
    "### LaNet-5\n",
    "https://read01.com/zh-tw/Gm7Od.html#.W7nf42gzZPZ\n",
    "\n",
    "https://cloud.tencent.com/developer/article/1054868"
   ]
  },
  {
   "cell_type": "markdown",
   "metadata": {},
   "source": [
    "上面兩個網址有流程"
   ]
  },
  {
   "cell_type": "markdown",
   "metadata": {},
   "source": [
    "<img src=\"table13-1.png\" width=\"50%\" height=\"50%\">"
   ]
  },
  {
   "cell_type": "markdown",
   "metadata": {},
   "source": [
    "### Alexnet\n",
    "https://medium.com/@WhoYoung99/alexnet-%E6%9E%B6%E6%A7%8B%E6%A6%82%E8%BF%B0-988113c06b4b\n",
    "https://my.oschina.net/u/876354/blog/1633143"
   ]
  },
  {
   "cell_type": "markdown",
   "metadata": {},
   "source": [
    "<img src=\"table13-2.png\" width=\"50%\" height=\"50%\">\n",
    "<img src=\"FIGURE13-2.png\" width=\"80%\" height=\"80%\">\n",
    "本圖引自http://www.cs.toronto.edu/~fritz/absps/imagenet.pdf"
   ]
  },
  {
   "cell_type": "markdown",
   "metadata": {},
   "source": [
    "### GoogLeNet\n",
    "網址https://blog.csdn.net/marsjhao/article/details/73088850\n",
    "\n",
    "https://www.cnblogs.com/Allen-rg/p/5833919.html\n",
    "\n",
    "基本https://blog.csdn.net/u010402786/article/details/52433324"
   ]
  },
  {
   "cell_type": "markdown",
   "metadata": {},
   "source": [
    "<img src=\"table13-3.png\" width=\"80%\" height=\"80%\">\n",
    "<img src=\"FIGURE13-3.png\" width=\"60%\" height=\"60%\">\n",
    "本圖來自https://blog.ddlee.cn/posts/6b8a6ed1/"
   ]
  },
  {
   "cell_type": "markdown",
   "metadata": {},
   "source": [
    "### ResNet(殘差學習)\n",
    "\n",
    "https://read01.com/zh-tw/yxkoz6.html#.W8M7QWgzaUk\n",
    "\n",
    "https://my.oschina.net/u/876354/blog/1622896\n",
    "\n",
    "https://www.jiqizhixin.com/articles/042201\n",
    "\n",
    "混和http://bangqu.com/4Zy3e7.html\n",
    "\n",
    "重要\n",
    "https://zhuanlan.zhihu.com/p/28413039\n",
    "https://blog.csdn.net/qq_29184757/article/details/77983824"
   ]
  },
  {
   "cell_type": "markdown",
   "metadata": {},
   "source": [
    "<img src=\"FIGURE13-4.png\" width=\"70%\" height=\"70%\">\n",
    "<img src=\"FIGURE13-5.png\" width=\"70%\" height=\"70%\">\n",
    "<img src=\"FIGURE13-6.png\" width=\"70%\" height=\"70%\">\n",
    "<img src=\"FIGURE13-7.png\" width=\"70%\" height=\"70%\">"
   ]
  },
  {
   "cell_type": "markdown",
   "metadata": {},
   "source": [
    "### SENet\n",
    "網址https://hk.saowen.com/a/45e8bc73b1bc1997943cc1fd803aee38602ac20de3402ffdd416bdd2ef779580"
   ]
  }
 ],
 "metadata": {
  "kernelspec": {
   "display_name": "Python 3",
   "language": "python",
   "name": "python3"
  },
  "language_info": {
   "codemirror_mode": {
    "name": "ipython",
    "version": 3
   },
   "file_extension": ".py",
   "mimetype": "text/x-python",
   "name": "python",
   "nbconvert_exporter": "python",
   "pygments_lexer": "ipython3",
   "version": "3.6.5"
  }
 },
 "nbformat": 4,
 "nbformat_minor": 2
}
